{
 "cells": [
  {
   "cell_type": "code",
   "execution_count": null,
   "id": "373e62b4",
   "metadata": {},
   "outputs": [],
   "source": [
    "import numpy as np\n",
    "from keras.models import Sequential\n",
    "from keras.layers import Conv2D, MaxPooling2D, Flatten, Dense\n",
    "\n",
    "# 데이터 불러오기 및 전처리\n",
    "X_train = np.load('./data/X_train_mouse02.npy')\n",
    "Y_train = np.load('./data/Y_train_mouse02.npy')\n",
    "X_test = np.load('./data/X_test_mouse02.npy')\n",
    "Y_test = np.load('./data/Y_test_mouse02.npy')\n",
    "\n",
    "X_train = X_train.reshape(X_train.shape[0], 13, 176, 1)\n",
    "X_test = X_test.reshape(X_test.shape[0], 13, 176, 1)\n",
    "\n",
    "\n",
    "# 모델 생성\n",
    "model_cnn = Sequential()\n",
    "model_cnn.add(Conv2D(32, (3, 3), activation='relu', input_shape=X_train.shape[1:]))\n",
    "model_cnn.add(MaxPooling2D((2, 2)))\n",
    "model_cnn.add(Flatten())\n",
    "model_cnn.add(Dense(128, activation='relu'))\n",
    "model_cnn.add(Dense(3, activation='softmax'))\n",
    "\n",
    "# 컴파일 및 학습\n",
    "model_cnn.compile(loss='sparse_categorical_crossentropy', optimizer='adam', metrics=['accuracy'])\n",
    "model_cnn.fit(X_train, Y_train, epochs=10, batch_size=32, validation_data=(X_test, Y_test))\n"
   ]
  }
 ],
 "metadata": {
  "kernelspec": {
   "display_name": "Python 3",
   "language": "python",
   "name": "python3"
  },
  "language_info": {
   "codemirror_mode": {
    "name": "ipython",
    "version": 3
   },
   "file_extension": ".py",
   "mimetype": "text/x-python",
   "name": "python",
   "nbconvert_exporter": "python",
   "pygments_lexer": "ipython3",
   "version": "3.11.7"
  }
 },
 "nbformat": 4,
 "nbformat_minor": 5
}
