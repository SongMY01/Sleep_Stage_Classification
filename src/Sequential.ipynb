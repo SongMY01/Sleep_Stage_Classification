{
 "cells": [
  {
   "cell_type": "code",
   "execution_count": null,
   "id": "84af612b",
   "metadata": {},
   "outputs": [],
   "source": [
    "import numpy as np\n",
    "from keras.models import Sequential\n",
    "from keras.layers import Dense, Flatten\n",
    "\n",
    "# 데이터 불러오기 및 전처리\n",
    "X_train = np.load('X_train_mouse02.npy')\n",
    "Y_train = np.load('Y_train_mouse02.npy')\n",
    "X_test = np.load('X_test_mouse02.npy')\n",
    "Y_test = np.load('Y_test_mouse02.npy')\n",
    "\n",
    "# 모델 생성\n",
    "model_seq = Sequential()\n",
    "model_seq.add(Flatten(input_shape=X_train.shape[1:]))\n",
    "model_seq.add(Dense(128, activation='relu'))\n",
    "model_seq.add(Dense(3, activation='softmax'))\n",
    "\n",
    "# 컴파일 및 학습\n",
    "model_seq.compile(loss='sparse_categorical_crossentropy', optimizer='adam', metrics=['accuracy'])\n",
    "model_seq.fit(X_train, Y_train, epochs=10, batch_size=32, validation_data=(X_test, Y_test))\n"
   ]
  }
 ],
 "metadata": {},
 "nbformat": 4,
 "nbformat_minor": 5
}
