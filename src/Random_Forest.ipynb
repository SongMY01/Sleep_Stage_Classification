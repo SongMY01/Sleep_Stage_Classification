{
 "cells": [
  {
   "cell_type": "code",
   "execution_count": null,
   "id": "be55f9b1",
   "metadata": {},
   "outputs": [],
   "source": [
    "import numpy as np\n",
    "from sklearn.ensemble import RandomForestClassifier\n",
    "from sklearn.metrics import accuracy_score\n",
    "\n",
    "# 데이터 불러오기 및 전처리\n",
    "X_train = np.load('./data/X_train_mouse02.npy')\n",
    "Y_train = np.load('./data/Y_train_mouse02.npy')\n",
    "X_test = np.load('./data/X_test_mouse02.npy')\n",
    "Y_test = np.load('./data/Y_test_mouse02.npy')\n",
    "\n",
    "X_train_flat = X_train.reshape(X_train.shape[0], -1)\n",
    "X_test_flat = X_test.reshape(X_test.shape[0], -1)\n",
    "\n",
    "# 모델 생성 및 학습\n",
    "rforest = RandomForestClassifier(n_estimators=100, random_state=42)\n",
    "rforest.fit(X_train_flat, Y_train)\n",
    "Y_pred = rforest.predict(X_test_flat)\n",
    "\n",
    "# 정확도 출력\n",
    "print(\"Accuracy:\", accuracy_score(Y_test, Y_pred))\n"
   ]
  }
 ],
 "metadata": {
  "language_info": {
   "name": "python"
  }
 },
 "nbformat": 4,
 "nbformat_minor": 5
}
