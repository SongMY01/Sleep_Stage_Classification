{
 "cells": [
  {
   "cell_type": "code",
   "execution_count": null,
   "id": "b6f0ab75",
   "metadata": {},
   "outputs": [],
   "source": [
    "import numpy as np\n",
    "from keras.models import Sequential\n",
    "from keras.layers import Dense\n",
    "\n",
    "\n",
    "# 데이터 불러오기 및 전처리\n",
    "X_train = np.load('./data/X_train_mouse02.npy')\n",
    "Y_train = np.load('./data/Y_train_mouse02.npy')\n",
    "X_test = np.load('./data/X_test_mouse02.npy')\n",
    "Y_test = np.load('./data/Y_test_mouse02.npy')\n",
    "\n",
    "X_train_flat = X_train.reshape(X_train.shape[0], -1)\n",
    "X_test_flat = X_test.reshape(X_test.shape[0], -1)\n",
    "\n",
    "# 모델 생성\n",
    "model_mlp = Sequential()\n",
    "model_mlp.add(Dense(128, input_dim=X_train_flat.shape[1], activation='relu'))\n",
    "model_mlp.add(Dense(64, activation='relu'))\n",
    "model_mlp.add(Dense(3, activation='softmax'))\n",
    "\n",
    "# 컴파일 및 학습\n",
    "model_mlp.compile(loss='sparse_categorical_crossentropy', optimizer='adam', metrics=['accuracy'])\n",
    "model_mlp.fit(X_train_flat, Y_train, epochs=10, batch_size=32, validation_data=(X_test_flat, Y_test))\n"
   ]
  }
 ],
 "metadata": {
  "kernelspec": {
   "display_name": "Python 3",
   "language": "python",
   "name": "python3"
  },
  "language_info": {
   "codemirror_mode": {
    "name": "ipython",
    "version": 3
   },
   "file_extension": ".py",
   "mimetype": "text/x-python",
   "name": "python",
   "nbconvert_exporter": "python",
   "pygments_lexer": "ipython3",
   "version": "3.11.7"
  }
 },
 "nbformat": 4,
 "nbformat_minor": 5
}
